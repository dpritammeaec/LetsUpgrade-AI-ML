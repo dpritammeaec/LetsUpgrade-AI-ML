{
  "nbformat": 4,
  "nbformat_minor": 0,
  "metadata": {
    "colab": {
      "name": "AIML_Day6_assignment.ipynb",
      "provenance": [],
      "collapsed_sections": []
    },
    "kernelspec": {
      "name": "python3",
      "display_name": "Python 3"
    }
  },
  "cells": [
    {
      "cell_type": "code",
      "metadata": {
        "id": "JUx3Ai3ZlgPa",
        "colab_type": "code",
        "colab": {
          "base_uri": "https://localhost:8080/",
          "height": 51
        },
        "outputId": "fa686a81-90f1-41f6-964a-7ddd6e71bf8b"
      },
      "source": [
        "#Question1:\n",
        "id=input(\"Please enter an email id in username@companyname.com format : \")\n",
        "comp_name=id.split(\"@\")[1].split(\".\")[0]\n",
        "print(\"Company name is : %s \"%comp_name)\n"
      ],
      "execution_count": 2,
      "outputs": [
        {
          "output_type": "stream",
          "text": [
            "Please enter an email id in username@companyname.com format : pritam@ibps.in\n",
            "Company name is : ibps \n"
          ],
          "name": "stdout"
        }
      ]
    },
    {
      "cell_type": "code",
      "metadata": {
        "id": "K-OXj83ssbum",
        "colab_type": "code",
        "colab": {
          "base_uri": "https://localhost:8080/",
          "height": 68
        },
        "outputId": "85be4ce2-fd51-4d86-9d88-ffbf584cc664"
      },
      "source": [
        "#Question2:\n",
        "import functools\n",
        "from functools import reduce\n",
        "input_words=input(\"Please enter words separated by comma : \")\n",
        "input_array=input_words.split(\",\")\n",
        "sorted_array=sorted(input_array, key=None)\n",
        "updated_string=reduce(lambda a,b: a+\", \"+b, sorted_array)\n",
        "print(updated_string)"
      ],
      "execution_count": 6,
      "outputs": [
        {
          "output_type": "stream",
          "text": [
            "Please enter words separated by comma : hjhjgj,ahgfhgfh,popo,ree,qhg,bjb\n",
            "['ahgfhgfh', 'bjb', 'hjhjgj', 'popo', 'qhg', 'ree']\n",
            "ahgfhgfh,bjb,hjhjgj,popo,qhg,ree\n"
          ],
          "name": "stdout"
        }
      ]
    },
    {
      "cell_type": "code",
      "metadata": {
        "id": "zNr-aMN_uR60",
        "colab_type": "code",
        "colab": {
          "base_uri": "https://localhost:8080/",
          "height": 34
        },
        "outputId": "e5ba38cb-cf55-44da-8026-aec585740938"
      },
      "source": [
        "#Question3:\n",
        "#Set\n",
        "#A set is a collection which is unordered and unindexed. In Python sets are written with curly brackets.\n",
        "array=[1,2,1,1,3,4,2,1,]\n",
        "unique_array=set(array)\n",
        "print(unique_array)\n"
      ],
      "execution_count": 7,
      "outputs": [
        {
          "output_type": "stream",
          "text": [
            "{1, 2, 3, 4}\n"
          ],
          "name": "stdout"
        }
      ]
    },
    {
      "cell_type": "code",
      "metadata": {
        "id": "JjaqryNTuy-v",
        "colab_type": "code",
        "colab": {
          "base_uri": "https://localhost:8080/",
          "height": 51
        },
        "outputId": "58315266-6ef0-451a-e745-4a2b6ab3d54c"
      },
      "source": [
        "#Question4:\n",
        "from functools import reduce\n",
        "input_nums=input(\"Please enter number separated by a space : \")\n",
        "num_array=[int(i) for i in input_nums.split(\" \")]\n",
        "\n",
        "sorted_array=sorted(num_array, key=None)\n",
        "min_num=min(sorted_array)\n",
        "max_num=max(sorted_array)\n",
        "all_num=[i for i in range(min_num, max_num+1)]\n",
        "\n",
        "\n",
        "def is_missing():\n",
        "  missing_array=[]\n",
        "  for i in all_num:\n",
        "    if i not in sorted_array:\n",
        "      missing_array.append(i)\n",
        "  return missing_array\n",
        "\n",
        "missing_num=is_missing()\n",
        "num_str=reduce(lambda a,b: str(a)+\" \"+str(b), missing_num)\n",
        "\n",
        "print(\"Missing numbers are : %s\"%num_str)"
      ],
      "execution_count": 25,
      "outputs": [
        {
          "output_type": "stream",
          "text": [
            "Please enter number separated by a space : 1 4 6 7 9\n",
            "Missing numbers are : 2 3 5 8\n"
          ],
          "name": "stdout"
        }
      ]
    },
    {
      "cell_type": "code",
      "metadata": {
        "id": "NGWXMrD-3G8Q",
        "colab_type": "code",
        "colab": {
          "base_uri": "https://localhost:8080/",
          "height": 51
        },
        "outputId": "d04101d7-769e-413d-bcd8-8b550d30b3e0"
      },
      "source": [
        "#Question5:\n",
        "import functools\n",
        "from functools import reduce\n",
        "input_words=input(\"Please enter strings separated by space : \")\n",
        "input_array=input_words.split(\" \")\n",
        "unique_array=set(input_array)\n",
        "sorted_array=sorted(unique_array, key=None)\n",
        "updated_string=reduce(lambda a,b: a+\" \"+b, sorted_array)\n",
        "print(updated_string)"
      ],
      "execution_count": 29,
      "outputs": [
        {
          "output_type": "stream",
          "text": [
            "Please enter strings separated by space : 1 3 s 2 v 3 p 3 p\n",
            "1 2 3 p s v\n"
          ],
          "name": "stdout"
        }
      ]
    },
    {
      "cell_type": "markdown",
      "metadata": {
        "id": "DIZCV3u5uh4S",
        "colab_type": "text"
      },
      "source": [
        ""
      ]
    }
  ]
}