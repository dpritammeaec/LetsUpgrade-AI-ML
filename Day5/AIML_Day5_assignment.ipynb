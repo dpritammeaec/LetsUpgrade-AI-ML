{
  "nbformat": 4,
  "nbformat_minor": 0,
  "metadata": {
    "colab": {
      "name": "AIML_Day5_assignment.ipynb",
      "provenance": [],
      "collapsed_sections": []
    },
    "kernelspec": {
      "name": "python3",
      "display_name": "Python 3"
    }
  },
  "cells": [
    {
      "cell_type": "code",
      "metadata": {
        "id": "-nScduNUMKwA",
        "colab_type": "code",
        "colab": {
          "base_uri": "https://localhost:8080/",
          "height": 357
        },
        "outputId": "cdb1e205-838a-4c87-82dc-a00321dd7077"
      },
      "source": [
        "#Question1:\n",
        "count=0\n",
        "num=2\n",
        "while(count<20):\n",
        "  if(num%2==0):\n",
        "    pass\n",
        "  else:\n",
        "    c=0\n",
        "    for i in range(1,num+1):\n",
        "      if(num%i==0):\n",
        "        c+=1\n",
        "    \n",
        "    if(c==2):\n",
        "      count+=1\n",
        "      print(\"%d. Non-even prime natural number : %d\"%(count, num))\n",
        "\n",
        "  num+=1"
      ],
      "execution_count": null,
      "outputs": [
        {
          "output_type": "stream",
          "text": [
            "1. Non-even prime natural number : 3\n",
            "2. Non-even prime natural number : 5\n",
            "3. Non-even prime natural number : 7\n",
            "4. Non-even prime natural number : 11\n",
            "5. Non-even prime natural number : 13\n",
            "6. Non-even prime natural number : 17\n",
            "7. Non-even prime natural number : 19\n",
            "8. Non-even prime natural number : 23\n",
            "9. Non-even prime natural number : 29\n",
            "10. Non-even prime natural number : 31\n",
            "11. Non-even prime natural number : 37\n",
            "12. Non-even prime natural number : 41\n",
            "13. Non-even prime natural number : 43\n",
            "14. Non-even prime natural number : 47\n",
            "15. Non-even prime natural number : 53\n",
            "16. Non-even prime natural number : 59\n",
            "17. Non-even prime natural number : 61\n",
            "18. Non-even prime natural number : 67\n",
            "19. Non-even prime natural number : 71\n",
            "20. Non-even prime natural number : 73\n"
          ],
          "name": "stdout"
        }
      ]
    },
    {
      "cell_type": "code",
      "metadata": {
        "id": "lY7Q-e2MMSIL",
        "colab_type": "code",
        "colab": {
          "base_uri": "https://localhost:8080/",
          "height": 309
        },
        "outputId": "fd6c9143-aea8-4c0a-a67d-846a5b77943a"
      },
      "source": [
        "#Question2:\n",
        "string=\"My name Pritam Chatterjee \"\n",
        "print(string.split())\n",
        "print(string[:15])\n",
        "print(string.capitalize())\n",
        "print(string.title())\n",
        "print(string.isalpha())\n",
        "print(string.upper())\n",
        "print(string.lower())\n",
        "print(string.replace(\"Pritam\",\"Michel\"))\n",
        "print(string.rstrip())\n",
        "print(string.startswith(\"My\"))\n",
        "print(string.index(\"m\",10,20))\n",
        "print(string.isalnum())\n",
        "print(string.isdigit())\n",
        "print(string.join(\". HI, all\"))\n",
        "print(string.swapcase())\n",
        "print(string.lstrip())"
      ],
      "execution_count": 18,
      "outputs": [
        {
          "output_type": "stream",
          "text": [
            "['My', 'name', 'Pritam', 'Chatterjee']\n",
            "My name Pritam \n",
            "My name pritam chatterjee \n",
            "My Name Pritam Chatterjee \n",
            "False\n",
            "MY NAME PRITAM CHATTERJEE \n",
            "my name pritam chatterjee \n",
            "My name Michel Chatterjee \n",
            "My name Pritam Chatterjee\n",
            "True\n",
            "13\n",
            "False\n",
            "False\n",
            ".My name Pritam Chatterjee  My name Pritam Chatterjee HMy name Pritam Chatterjee IMy name Pritam Chatterjee ,My name Pritam Chatterjee  My name Pritam Chatterjee aMy name Pritam Chatterjee lMy name Pritam Chatterjee l\n",
            "mY NAME pRITAM cHATTERJEE \n",
            "My name Pritam Chatterjee \n"
          ],
          "name": "stdout"
        }
      ]
    },
    {
      "cell_type": "code",
      "metadata": {
        "id": "LprtQRhCMTSw",
        "colab_type": "code",
        "colab": {
          "base_uri": "https://localhost:8080/",
          "height": 119
        },
        "outputId": "bc582b24-7280-42e7-dec7-269600684e86"
      },
      "source": [
        "#Question3:\n",
        "from collections import Counter  \n",
        "texts = [\"bcda\", \"abce\", \"cbda\", \"cbea\", \"adcb\",\"lakal\"]\n",
        "str = \"abcd\"\n",
        "print(\"Orginal list of strings:\")\n",
        "print(texts) \n",
        "result = list(filter(lambda x: (Counter(str) == Counter(x)), texts)) \n",
        "print(result)\n",
        "print(\"\\nAnagrams of \",result,\" in the above string: \")\n",
        "for word in texts:\n",
        "  new_word=\"\"\n",
        "  for i in range(1,len(word)+1):\n",
        "    new_word+=\"%s\"%word[-i]\n",
        "  if(word==new_word):\n",
        "    print(\"%s is a palindron word\"%word)"
      ],
      "execution_count": 24,
      "outputs": [
        {
          "output_type": "stream",
          "text": [
            "Orginal list of strings:\n",
            "['bcda', 'abce', 'cbda', 'cbea', 'adcb', 'lakal']\n",
            "['bcda', 'cbda', 'adcb']\n",
            "\n",
            "Anagrams of  ['bcda', 'cbda', 'adcb']  in the above string: \n",
            "lakal is a palindron word\n"
          ],
          "name": "stdout"
        }
      ]
    },
    {
      "cell_type": "code",
      "metadata": {
        "id": "JnbaPPzpMUKr",
        "colab_type": "code",
        "colab": {
          "base_uri": "https://localhost:8080/",
          "height": 51
        },
        "outputId": "8bbfe4f6-bf96-4f42-a653-804648f49133"
      },
      "source": [
        "#Question4:\n",
        "\n",
        "text=input(\"Please enter a string : \")\n",
        "new_text_array=[text[i].lower() for i in range(0,len(text)) if text[i].isalpha()]\n",
        "new_text=\"\"\n",
        "for j in new_text_array:\n",
        "  new_text+=\"%s\"%j\n",
        "print(new_text)"
      ],
      "execution_count": 32,
      "outputs": [
        {
          "output_type": "stream",
          "text": [
            "Please enter a string : hjhjghj&hghgfgh...\n",
            "hjhjghjhghgfgh\n"
          ],
          "name": "stdout"
        }
      ]
    }
  ]
}