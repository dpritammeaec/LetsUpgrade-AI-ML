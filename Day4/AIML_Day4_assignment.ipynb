{
  "nbformat": 4,
  "nbformat_minor": 0,
  "metadata": {
    "colab": {
      "name": "AIML_Day4_assignment.ipynb",
      "provenance": [],
      "collapsed_sections": []
    },
    "kernelspec": {
      "name": "python3",
      "display_name": "Python 3"
    }
  },
  "cells": [
    {
      "cell_type": "code",
      "metadata": {
        "id": "k-NEPxN7KN6e",
        "colab_type": "code",
        "colab": {
          "base_uri": "https://localhost:8080/",
          "height": 119
        },
        "outputId": "e214350d-d2f2-47b1-f777-440150ec4e03"
      },
      "source": [
        "#Question 1 :\n",
        "c1=5+3j\n",
        "c2=2+9j\n",
        "print(c1,c2)\n",
        "print(type(c1),type(c2))\n",
        "#Addition\n",
        "add=c1+c2\n",
        "print(add)\n",
        "#Substraction\n",
        "subs=c1-c2\n",
        "print(subs)\n",
        "#Multiplication\n",
        "mul=c1*c2\n",
        "print(mul)\n",
        "#Division\n",
        "div=c1/c2\n",
        "print(div)"
      ],
      "execution_count": 4,
      "outputs": [
        {
          "output_type": "stream",
          "text": [
            "(5+3j) (2+9j)\n",
            "<class 'complex'> <class 'complex'>\n",
            "(7+12j)\n",
            "(3-6j)\n",
            "(-17+51j)\n",
            "(0.4352941176470588-0.4588235294117647j)\n"
          ],
          "name": "stdout"
        }
      ]
    },
    {
      "cell_type": "code",
      "metadata": {
        "id": "dNELNuFR5TTi",
        "colab_type": "code",
        "colab": {
          "base_uri": "https://localhost:8080/",
          "height": 238
        },
        "outputId": "1f6a1a23-5759-4cbe-c1b0-b0b9c36a9948"
      },
      "source": [
        "#Question 2 :\n",
        "#range(start, end, interval). range function transverse from \"start\" to \"end - 1\" with a specific interval( by the fault 1)\n",
        "for i in range(1,10):\n",
        "  print(i)\n",
        "print(\"===================\")\n",
        "for i in range(1,10,3):\n",
        "  print(i)"
      ],
      "execution_count": 6,
      "outputs": [
        {
          "output_type": "stream",
          "text": [
            "1\n",
            "2\n",
            "3\n",
            "4\n",
            "5\n",
            "6\n",
            "7\n",
            "8\n",
            "9\n",
            "===================\n",
            "1\n",
            "4\n",
            "7\n"
          ],
          "name": "stdout"
        }
      ]
    },
    {
      "cell_type": "code",
      "metadata": {
        "id": "PThV3WS88JMz",
        "colab_type": "code",
        "colab": {
          "base_uri": "https://localhost:8080/",
          "height": 68
        },
        "outputId": "947637e8-bc57-4e46-93e4-20c10b9e4bf6"
      },
      "source": [
        "#Question 3 :\n",
        "def Operation(num1,num2):\n",
        "  max_no=max(num1,num2)\n",
        "  min_no=min(num1,num2)\n",
        "  subs=max_no-min_no\n",
        "  if(subs>25):\n",
        "    print(\"Substraction result is grater than 25 and multiplication of the numbers is : \",num1*num2)\n",
        "  else:\n",
        "    print(\"Substraction result is grater than 25 and Division of the numbers is : \",num1/num2)\n",
        "\n",
        "num1=input(\"Please enter the first no. : \")\n",
        "num1=int(num1)\n",
        "\n",
        "num2=input(\"Please enter the second no. : \")\n",
        "num2=int(num2)\n",
        "Operation(num1,num2)"
      ],
      "execution_count": 9,
      "outputs": [
        {
          "output_type": "stream",
          "text": [
            "Please enter the first no. : 3\n",
            "Please enter the second no. : 23\n",
            "Substraction result is grater than 25 and Division of the numbers is :  0.13043478260869565\n"
          ],
          "name": "stdout"
        }
      ]
    },
    {
      "cell_type": "code",
      "metadata": {
        "id": "Q-Ao6xgE9-26",
        "colab_type": "code",
        "colab": {
          "base_uri": "https://localhost:8080/",
          "height": 102
        },
        "outputId": "534bb675-284c-462e-c7e8-e89864c77c42"
      },
      "source": [
        "#Question 4 :\n",
        "array=[2,34,65,78,98,111,35,78,41,19]\n",
        "for element in array:\n",
        "  if(element%2==0):\n",
        "    result=element**2-2\n",
        "    print(\"square of the number %d minus 2 is : %d\"%(element,result))\n",
        "\n"
      ],
      "execution_count": 11,
      "outputs": [
        {
          "output_type": "stream",
          "text": [
            "square of the number 2 minus 2 is : 2\n",
            "square of the number 34 minus 2 is : 1154\n",
            "square of the number 78 minus 2 is : 6082\n",
            "square of the number 98 minus 2 is : 9602\n",
            "square of the number 78 minus 2 is : 6082\n"
          ],
          "name": "stdout"
        }
      ]
    },
    {
      "cell_type": "code",
      "metadata": {
        "id": "PxR92vDC_TG7",
        "colab_type": "code",
        "colab": {
          "base_uri": "https://localhost:8080/",
          "height": 68
        },
        "outputId": "be547704-c696-4eb0-e445-0106ab4fba99"
      },
      "source": [
        "#Question 5 :\n",
        "array=[2,34,6,78,9,11,35,8,41,19]\n",
        "for element in array:\n",
        "  if(element%2==0 and element>7):\n",
        "    print(element)"
      ],
      "execution_count": 13,
      "outputs": [
        {
          "output_type": "stream",
          "text": [
            "34\n",
            "78\n",
            "8\n"
          ],
          "name": "stdout"
        }
      ]
    }
  ]
}