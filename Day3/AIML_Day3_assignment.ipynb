{
  "nbformat": 4,
  "nbformat_minor": 0,
  "metadata": {
    "colab": {
      "name": "AIML_Day3_assignment.ipynb",
      "provenance": [],
      "collapsed_sections": []
    },
    "kernelspec": {
      "name": "python3",
      "display_name": "Python 3"
    }
  },
  "cells": [
    {
      "cell_type": "code",
      "metadata": {
        "id": "BOC6OxmfDKqt",
        "colab_type": "code",
        "colab": {
          "base_uri": "https://localhost:8080/",
          "height": 68
        },
        "outputId": "3d04fc0e-89b6-462c-e4bd-af52461eab3a"
      },
      "source": [
        "#Question 1 :\n",
        "\n",
        "c1=5+3j\n",
        "c2=2+9j\n",
        "print(c1,c2)\n",
        "print(type(c1),type(c2))\n",
        "#Substraction\n",
        "subs=c1-c2\n",
        "print(subs)"
      ],
      "execution_count": 1,
      "outputs": [
        {
          "output_type": "stream",
          "text": [
            "(5+3j) (2+9j)\n",
            "<class 'complex'> <class 'complex'>\n",
            "(3-6j)\n"
          ],
          "name": "stdout"
        }
      ]
    },
    {
      "cell_type": "code",
      "metadata": {
        "id": "F-wp_E8aDYxs",
        "colab_type": "code",
        "colab": {
          "base_uri": "https://localhost:8080/",
          "height": 51
        },
        "outputId": "9999de25-1c28-4e6d-b702-6a2dc6fb0b97"
      },
      "source": [
        "#Question 2 :\n",
        "import math \n",
        "num=input(\"Please enter a number : \")\n",
        "num=int(num)\n",
        "sqrt_4th=float(math.sqrt(math.sqrt(num)))\n",
        "print(\"4th Square root of the number %d is %f\"%(num, sqrt_4th))"
      ],
      "execution_count": 7,
      "outputs": [
        {
          "output_type": "stream",
          "text": [
            "Please enter a number : 625\n",
            "4th Square root of the number 625 is 5.000000\n"
          ],
          "name": "stdout"
        }
      ]
    },
    {
      "cell_type": "code",
      "metadata": {
        "id": "vTvlOOtCDc2Z",
        "colab_type": "code",
        "colab": {
          "base_uri": "https://localhost:8080/",
          "height": 51
        },
        "outputId": "a690f537-5597-476a-da19-ec4a0bbedb1e"
      },
      "source": [
        "#Question 3 :\n",
        "num=input(\"Please enter a number : \")\n",
        "num=int(num)\n",
        "unit_dig=int(num%10)\n",
        "dec_dig=int(num/10)\n",
        "swap_no=unit_dig*10+dec_dig\n",
        "print(swap_no)\n"
      ],
      "execution_count": 13,
      "outputs": [
        {
          "output_type": "stream",
          "text": [
            "Please enter a number : 65\n",
            "56\n"
          ],
          "name": "stdout"
        }
      ]
    },
    {
      "cell_type": "code",
      "metadata": {
        "id": "uFDIlop9Dei_",
        "colab_type": "code",
        "colab": {
          "base_uri": "https://localhost:8080/",
          "height": 51
        },
        "outputId": "b05bdd0c-f77c-4810-fae4-77bb94fc7876"
      },
      "source": [
        "#Question 4 :\n",
        "num=input(\"Please enter a number : \")\n",
        "swap_no=num[1]+num[0]\n",
        "print(swap_no)"
      ],
      "execution_count": 14,
      "outputs": [
        {
          "output_type": "stream",
          "text": [
            "Please enter a number : 81\n",
            "18\n"
          ],
          "name": "stdout"
        }
      ]
    },
    {
      "cell_type": "code",
      "metadata": {
        "id": "y-6a3jxwDg1o",
        "colab_type": "code",
        "colab": {
          "base_uri": "https://localhost:8080/",
          "height": 68
        },
        "outputId": "0a419bc4-9f7b-4770-80e6-6bc4ef62aa0e"
      },
      "source": [
        "#Question 5 :\n",
        "f=input(\"Enter a tempreture in Farenhite scale : \")\n",
        "f=float(f)\n",
        "c=(f-32)*5/9\n",
        "k=c+273\n",
        "print(\"In Celcius : \",c)\n",
        "print(\"In kelvin : \",k)"
      ],
      "execution_count": 15,
      "outputs": [
        {
          "output_type": "stream",
          "text": [
            "Enter a tempreture in Farenhite scale : 110\n",
            "In Celcius :  43.333333333333336\n",
            "In kelvin :  316.3333333333333\n"
          ],
          "name": "stdout"
        }
      ]
    },
    {
      "cell_type": "code",
      "metadata": {
        "id": "3mQkOeRvDidS",
        "colab_type": "code",
        "colab": {
          "base_uri": "https://localhost:8080/",
          "height": 102
        },
        "outputId": "3e324c22-5a83-4d0b-9e72-6db4129b44f0"
      },
      "source": [
        "#Question 6 :\n",
        "a=1\n",
        "b=1.1\n",
        "c=\"pritam\"\n",
        "d=2+3j\n",
        "e=[1,2,3,4]\n",
        "print(type(a))\n",
        "print(type(b))\n",
        "print(type(c))\n",
        "print(type(d))\n",
        "print(type(e))"
      ],
      "execution_count": 16,
      "outputs": [
        {
          "output_type": "stream",
          "text": [
            "<class 'int'>\n",
            "<class 'float'>\n",
            "<class 'str'>\n",
            "<class 'complex'>\n",
            "<class 'list'>\n"
          ],
          "name": "stdout"
        }
      ]
    },
    {
      "cell_type": "code",
      "metadata": {
        "id": "au4ui7V9DkE-",
        "colab_type": "code",
        "colab": {}
      },
      "source": [
        "#Question 7 :\n",
        "#I have created account in GitHUb\n"
      ],
      "execution_count": null,
      "outputs": []
    },
    {
      "cell_type": "markdown",
      "metadata": {
        "id": "h4DoE5SIICjJ",
        "colab_type": "text"
      },
      "source": [
        "#Question 7 :\n",
        "#I have created account in GitHUb"
      ]
    }
  ]
}